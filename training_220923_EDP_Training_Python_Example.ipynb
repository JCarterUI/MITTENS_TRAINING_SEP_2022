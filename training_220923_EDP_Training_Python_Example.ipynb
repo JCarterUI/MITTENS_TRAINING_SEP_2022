{
 "cells": [
  {
   "cell_type": "markdown",
   "id": "e648d063",
   "metadata": {},
   "source": [
    "# AEFP 4/27/22 - Education Data Portal Training"
   ]
  },
  {
   "cell_type": "raw",
   "id": "31e1857c",
   "metadata": {},
   "source": [
    "Written by: Jay Carter - Urban Institute"
   ]
  },
  {
   "cell_type": "markdown",
   "id": "c2e3c51f",
   "metadata": {},
   "source": [
    "## Import"
   ]
  },
  {
   "cell_type": "code",
   "execution_count": 1,
   "id": "08386a66",
   "metadata": {},
   "outputs": [],
   "source": [
    "import os\n",
    "import requests\n",
    "\n",
    "import pandas as pd"
   ]
  },
  {
   "cell_type": "markdown",
   "id": "e112aaab",
   "metadata": {},
   "source": [
    "## Constants"
   ]
  },
  {
   "cell_type": "code",
   "execution_count": 2,
   "id": "d61c740d",
   "metadata": {},
   "outputs": [],
   "source": [
    "api_stem = \"https://educationdata.urban.org/api/v1/\""
   ]
  },
  {
   "cell_type": "markdown",
   "id": "e7a17ca1",
   "metadata": {},
   "source": [
    "# Directory Example"
   ]
  },
  {
   "cell_type": "code",
   "execution_count": 3,
   "id": "824e8ae9",
   "metadata": {},
   "outputs": [
    {
     "name": "stdout",
     "output_type": "stream",
     "text": [
      "(3000, 52)\n"
     ]
    }
   ],
   "source": [
    "# API URL\n",
    "dir_ex_url = f\"{api_stem}schools/ccd/directory/2017/\"\n",
    "# API Request\n",
    "dir_ex = requests.get(dir_ex_url)\n",
    "# Put Data in DataFrame\n",
    "df_dir_ex = pd.DataFrame(dir_ex.json()['results'])\n",
    "\n",
    "print(df_dir_ex.shape)"
   ]
  },
  {
   "cell_type": "raw",
   "id": "88aa7b72",
   "metadata": {},
   "source": [
    "# All 52 directory columns but only 3000 rows..."
   ]
  },
  {
   "cell_type": "code",
   "execution_count": 4,
   "id": "33fceee3",
   "metadata": {},
   "outputs": [
    {
     "data": {
      "text/html": [
       "<div>\n",
       "<style scoped>\n",
       "    .dataframe tbody tr th:only-of-type {\n",
       "        vertical-align: middle;\n",
       "    }\n",
       "\n",
       "    .dataframe tbody tr th {\n",
       "        vertical-align: top;\n",
       "    }\n",
       "\n",
       "    .dataframe thead th {\n",
       "        text-align: right;\n",
       "    }\n",
       "</style>\n",
       "<table border=\"1\" class=\"dataframe\">\n",
       "  <thead>\n",
       "    <tr style=\"text-align: right;\">\n",
       "      <th></th>\n",
       "      <th>year</th>\n",
       "      <th>ncessch</th>\n",
       "      <th>school_id</th>\n",
       "      <th>school_name</th>\n",
       "      <th>leaid</th>\n",
       "      <th>lea_name</th>\n",
       "      <th>state_leaid</th>\n",
       "      <th>seasch</th>\n",
       "      <th>street_mailing</th>\n",
       "      <th>city_mailing</th>\n",
       "      <th>...</th>\n",
       "      <th>high_cedp</th>\n",
       "      <th>middle_cedp</th>\n",
       "      <th>ungrade_cedp</th>\n",
       "      <th>enrollment</th>\n",
       "      <th>state_leg_district_lower</th>\n",
       "      <th>state_leg_district_upper</th>\n",
       "      <th>ncessch_num</th>\n",
       "      <th>congress_district_id</th>\n",
       "      <th>direct_certification</th>\n",
       "      <th>lunch_program</th>\n",
       "    </tr>\n",
       "  </thead>\n",
       "  <tbody>\n",
       "    <tr>\n",
       "      <th>2995</th>\n",
       "      <td>2017</td>\n",
       "      <td>040150001053</td>\n",
       "      <td>01053</td>\n",
       "      <td>Desert Valley School</td>\n",
       "      <td>0401500</td>\n",
       "      <td>Bullhead City School District</td>\n",
       "      <td>AZ-4378</td>\n",
       "      <td>4378-5584</td>\n",
       "      <td>1066 Marina Blvd.</td>\n",
       "      <td>Bullhead City</td>\n",
       "      <td>...</td>\n",
       "      <td>0</td>\n",
       "      <td>0</td>\n",
       "      <td>0</td>\n",
       "      <td>454.0</td>\n",
       "      <td>04005</td>\n",
       "      <td>04005</td>\n",
       "      <td>40150001053</td>\n",
       "      <td>404</td>\n",
       "      <td>NaN</td>\n",
       "      <td>2.0</td>\n",
       "    </tr>\n",
       "    <tr>\n",
       "      <th>2996</th>\n",
       "      <td>2017</td>\n",
       "      <td>040150001528</td>\n",
       "      <td>01528</td>\n",
       "      <td>Diamondback Elementary School</td>\n",
       "      <td>0401500</td>\n",
       "      <td>Bullhead City School District</td>\n",
       "      <td>AZ-4378</td>\n",
       "      <td>4378-5585</td>\n",
       "      <td>2550 Tesota Way</td>\n",
       "      <td>Bullhead City</td>\n",
       "      <td>...</td>\n",
       "      <td>0</td>\n",
       "      <td>0</td>\n",
       "      <td>0</td>\n",
       "      <td>555.0</td>\n",
       "      <td>04005</td>\n",
       "      <td>04005</td>\n",
       "      <td>40150001528</td>\n",
       "      <td>404</td>\n",
       "      <td>NaN</td>\n",
       "      <td>2.0</td>\n",
       "    </tr>\n",
       "    <tr>\n",
       "      <th>2997</th>\n",
       "      <td>2017</td>\n",
       "      <td>040150001757</td>\n",
       "      <td>01757</td>\n",
       "      <td>Fox Creek Jr High School</td>\n",
       "      <td>0401500</td>\n",
       "      <td>Bullhead City School District</td>\n",
       "      <td>AZ-4378</td>\n",
       "      <td>4378-6048</td>\n",
       "      <td>3101 Desert Sky Boulevard</td>\n",
       "      <td>Bullhead City</td>\n",
       "      <td>...</td>\n",
       "      <td>0</td>\n",
       "      <td>1</td>\n",
       "      <td>0</td>\n",
       "      <td>486.0</td>\n",
       "      <td>04005</td>\n",
       "      <td>04005</td>\n",
       "      <td>40150001757</td>\n",
       "      <td>404</td>\n",
       "      <td>NaN</td>\n",
       "      <td>2.0</td>\n",
       "    </tr>\n",
       "    <tr>\n",
       "      <th>2998</th>\n",
       "      <td>2017</td>\n",
       "      <td>040150002184</td>\n",
       "      <td>02184</td>\n",
       "      <td>Sunrise Elementary</td>\n",
       "      <td>0401500</td>\n",
       "      <td>Bullhead City School District</td>\n",
       "      <td>AZ-4378</td>\n",
       "      <td>4378-79655</td>\n",
       "      <td>2645 West Landon Drive</td>\n",
       "      <td>Bullhead City</td>\n",
       "      <td>...</td>\n",
       "      <td>0</td>\n",
       "      <td>0</td>\n",
       "      <td>0</td>\n",
       "      <td>356.0</td>\n",
       "      <td>04005</td>\n",
       "      <td>04005</td>\n",
       "      <td>40150002184</td>\n",
       "      <td>404</td>\n",
       "      <td>NaN</td>\n",
       "      <td>2.0</td>\n",
       "    </tr>\n",
       "    <tr>\n",
       "      <th>2999</th>\n",
       "      <td>2017</td>\n",
       "      <td>040160000086</td>\n",
       "      <td>00086</td>\n",
       "      <td>Camp Verde Elementary School</td>\n",
       "      <td>0401600</td>\n",
       "      <td>Camp Verde Unified District</td>\n",
       "      <td>AZ-4470</td>\n",
       "      <td>4470-6098</td>\n",
       "      <td>200 Camp Lincoln Road</td>\n",
       "      <td>Camp Verde</td>\n",
       "      <td>...</td>\n",
       "      <td>0</td>\n",
       "      <td>0</td>\n",
       "      <td>0</td>\n",
       "      <td>628.0</td>\n",
       "      <td>04006</td>\n",
       "      <td>04006</td>\n",
       "      <td>40160000086</td>\n",
       "      <td>401</td>\n",
       "      <td>NaN</td>\n",
       "      <td>1.0</td>\n",
       "    </tr>\n",
       "  </tbody>\n",
       "</table>\n",
       "<p>5 rows × 52 columns</p>\n",
       "</div>"
      ],
      "text/plain": [
       "      year       ncessch school_id                    school_name    leaid  \\\n",
       "2995  2017  040150001053     01053           Desert Valley School  0401500   \n",
       "2996  2017  040150001528     01528  Diamondback Elementary School  0401500   \n",
       "2997  2017  040150001757     01757       Fox Creek Jr High School  0401500   \n",
       "2998  2017  040150002184     02184             Sunrise Elementary  0401500   \n",
       "2999  2017  040160000086     00086   Camp Verde Elementary School  0401600   \n",
       "\n",
       "                           lea_name state_leaid      seasch  \\\n",
       "2995  Bullhead City School District     AZ-4378   4378-5584   \n",
       "2996  Bullhead City School District     AZ-4378   4378-5585   \n",
       "2997  Bullhead City School District     AZ-4378   4378-6048   \n",
       "2998  Bullhead City School District     AZ-4378  4378-79655   \n",
       "2999    Camp Verde Unified District     AZ-4470   4470-6098   \n",
       "\n",
       "                 street_mailing   city_mailing  ... high_cedp middle_cedp  \\\n",
       "2995          1066 Marina Blvd.  Bullhead City  ...         0           0   \n",
       "2996            2550 Tesota Way  Bullhead City  ...         0           0   \n",
       "2997  3101 Desert Sky Boulevard  Bullhead City  ...         0           1   \n",
       "2998     2645 West Landon Drive  Bullhead City  ...         0           0   \n",
       "2999      200 Camp Lincoln Road     Camp Verde  ...         0           0   \n",
       "\n",
       "     ungrade_cedp enrollment state_leg_district_lower  \\\n",
       "2995            0      454.0                    04005   \n",
       "2996            0      555.0                    04005   \n",
       "2997            0      486.0                    04005   \n",
       "2998            0      356.0                    04005   \n",
       "2999            0      628.0                    04006   \n",
       "\n",
       "     state_leg_district_upper  ncessch_num  congress_district_id  \\\n",
       "2995                    04005  40150001053                   404   \n",
       "2996                    04005  40150001528                   404   \n",
       "2997                    04005  40150001757                   404   \n",
       "2998                    04005  40150002184                   404   \n",
       "2999                    04006  40160000086                   401   \n",
       "\n",
       "      direct_certification  lunch_program  \n",
       "2995                   NaN            2.0  \n",
       "2996                   NaN            2.0  \n",
       "2997                   NaN            2.0  \n",
       "2998                   NaN            2.0  \n",
       "2999                   NaN            1.0  \n",
       "\n",
       "[5 rows x 52 columns]"
      ]
     },
     "execution_count": 4,
     "metadata": {},
     "output_type": "execute_result"
    }
   ],
   "source": [
    "df_dir_ex.tail()"
   ]
  },
  {
   "cell_type": "markdown",
   "id": "7b3b3987",
   "metadata": {},
   "source": [
    "# Summary Endpoint Example"
   ]
  },
  {
   "cell_type": "code",
   "execution_count": 5,
   "id": "2737b166",
   "metadata": {},
   "outputs": [],
   "source": [
    "dir_count_ex_url = f\"{api_stem}schools/ccd/directory/summaries?var=enrollment&stat=count&by=year\"\n",
    "dir_count_ex = requests.get(dir_count_ex_url)\n",
    "\n",
    "df_dir_count_ex = pd.DataFrame(dir_count_ex.json()['results'])"
   ]
  },
  {
   "cell_type": "code",
   "execution_count": 6,
   "id": "27cb4dc4",
   "metadata": {},
   "outputs": [
    {
     "data": {
      "text/html": [
       "<div>\n",
       "<style scoped>\n",
       "    .dataframe tbody tr th:only-of-type {\n",
       "        vertical-align: middle;\n",
       "    }\n",
       "\n",
       "    .dataframe tbody tr th {\n",
       "        vertical-align: top;\n",
       "    }\n",
       "\n",
       "    .dataframe thead th {\n",
       "        text-align: right;\n",
       "    }\n",
       "</style>\n",
       "<table border=\"1\" class=\"dataframe\">\n",
       "  <thead>\n",
       "    <tr style=\"text-align: right;\">\n",
       "      <th></th>\n",
       "      <th>year</th>\n",
       "      <th>enrollment</th>\n",
       "    </tr>\n",
       "  </thead>\n",
       "  <tbody>\n",
       "    <tr>\n",
       "      <th>30</th>\n",
       "      <td>2016</td>\n",
       "      <td>98579</td>\n",
       "    </tr>\n",
       "    <tr>\n",
       "      <th>31</th>\n",
       "      <td>2017</td>\n",
       "      <td>98511</td>\n",
       "    </tr>\n",
       "    <tr>\n",
       "      <th>32</th>\n",
       "      <td>2018</td>\n",
       "      <td>99236</td>\n",
       "    </tr>\n",
       "    <tr>\n",
       "      <th>33</th>\n",
       "      <td>2019</td>\n",
       "      <td>98927</td>\n",
       "    </tr>\n",
       "    <tr>\n",
       "      <th>34</th>\n",
       "      <td>2020</td>\n",
       "      <td>98651</td>\n",
       "    </tr>\n",
       "  </tbody>\n",
       "</table>\n",
       "</div>"
      ],
      "text/plain": [
       "    year  enrollment\n",
       "30  2016       98579\n",
       "31  2017       98511\n",
       "32  2018       99236\n",
       "33  2019       98927\n",
       "34  2020       98651"
      ]
     },
     "execution_count": 6,
     "metadata": {},
     "output_type": "execute_result"
    }
   ],
   "source": [
    "df_dir_count_ex.tail()"
   ]
  },
  {
   "cell_type": "code",
   "execution_count": 7,
   "id": "c4c7f3d8",
   "metadata": {},
   "outputs": [],
   "source": [
    "sum_ex1_url = f\"{api_stem}schools/ccd/directory/summaries?var=enrollment&stat=avg&by=state_location\"\n",
    "sum_ex1 = requests.get(sum_ex1_url)\n",
    "df_sum_ex1 = pd.DataFrame(sum_ex1.json()['results'])"
   ]
  },
  {
   "cell_type": "code",
   "execution_count": 8,
   "id": "c31f9592",
   "metadata": {},
   "outputs": [
    {
     "data": {
      "text/html": [
       "<div>\n",
       "<style scoped>\n",
       "    .dataframe tbody tr th:only-of-type {\n",
       "        vertical-align: middle;\n",
       "    }\n",
       "\n",
       "    .dataframe tbody tr th {\n",
       "        vertical-align: top;\n",
       "    }\n",
       "\n",
       "    .dataframe thead th {\n",
       "        text-align: right;\n",
       "    }\n",
       "</style>\n",
       "<table border=\"1\" class=\"dataframe\">\n",
       "  <thead>\n",
       "    <tr style=\"text-align: right;\">\n",
       "      <th></th>\n",
       "      <th>year</th>\n",
       "      <th>state_location</th>\n",
       "      <th>enrollment</th>\n",
       "    </tr>\n",
       "  </thead>\n",
       "  <tbody>\n",
       "    <tr>\n",
       "      <th>1295</th>\n",
       "      <td>2020</td>\n",
       "      <td>VT</td>\n",
       "      <td>258.976974</td>\n",
       "    </tr>\n",
       "    <tr>\n",
       "      <th>1296</th>\n",
       "      <td>2020</td>\n",
       "      <td>WA</td>\n",
       "      <td>433.203660</td>\n",
       "    </tr>\n",
       "    <tr>\n",
       "      <th>1297</th>\n",
       "      <td>2020</td>\n",
       "      <td>WI</td>\n",
       "      <td>370.430227</td>\n",
       "    </tr>\n",
       "    <tr>\n",
       "      <th>1298</th>\n",
       "      <td>2020</td>\n",
       "      <td>WV</td>\n",
       "      <td>377.872024</td>\n",
       "    </tr>\n",
       "    <tr>\n",
       "      <th>1299</th>\n",
       "      <td>2020</td>\n",
       "      <td>WY</td>\n",
       "      <td>254.854795</td>\n",
       "    </tr>\n",
       "  </tbody>\n",
       "</table>\n",
       "</div>"
      ],
      "text/plain": [
       "      year state_location  enrollment\n",
       "1295  2020             VT  258.976974\n",
       "1296  2020             WA  433.203660\n",
       "1297  2020             WI  370.430227\n",
       "1298  2020             WV  377.872024\n",
       "1299  2020             WY  254.854795"
      ]
     },
     "execution_count": 8,
     "metadata": {},
     "output_type": "execute_result"
    }
   ],
   "source": [
    "df_sum_ex1.tail()"
   ]
  },
  {
   "cell_type": "code",
   "execution_count": 9,
   "id": "cba3581a",
   "metadata": {},
   "outputs": [],
   "source": [
    "# Admissions for IL\n",
    "ipeds_ex1_url = f\"{api_stem}college-university/ipeds/admissions-enrollment/summaries/?stat=avg&by=fips&var=number_applied&fips=17\"\n",
    "\n",
    "ipeds_ex1 = requests.get(ipeds_ex1_url)\n",
    "\n",
    "df_ipeds_ex1 = pd.DataFrame(ipeds_ex1.json()['results'])"
   ]
  },
  {
   "cell_type": "code",
   "execution_count": 10,
   "id": "de1cec59",
   "metadata": {},
   "outputs": [
    {
     "data": {
      "text/html": [
       "<div>\n",
       "<style scoped>\n",
       "    .dataframe tbody tr th:only-of-type {\n",
       "        vertical-align: middle;\n",
       "    }\n",
       "\n",
       "    .dataframe tbody tr th {\n",
       "        vertical-align: top;\n",
       "    }\n",
       "\n",
       "    .dataframe thead th {\n",
       "        text-align: right;\n",
       "    }\n",
       "</style>\n",
       "<table border=\"1\" class=\"dataframe\">\n",
       "  <thead>\n",
       "    <tr style=\"text-align: right;\">\n",
       "      <th></th>\n",
       "      <th>year</th>\n",
       "      <th>fips</th>\n",
       "      <th>number_applied</th>\n",
       "    </tr>\n",
       "  </thead>\n",
       "  <tbody>\n",
       "    <tr>\n",
       "      <th>14</th>\n",
       "      <td>2015</td>\n",
       "      <td>17</td>\n",
       "      <td>4553.443038</td>\n",
       "    </tr>\n",
       "    <tr>\n",
       "      <th>15</th>\n",
       "      <td>2016</td>\n",
       "      <td>17</td>\n",
       "      <td>4914.657895</td>\n",
       "    </tr>\n",
       "    <tr>\n",
       "      <th>16</th>\n",
       "      <td>2017</td>\n",
       "      <td>17</td>\n",
       "      <td>4805.807692</td>\n",
       "    </tr>\n",
       "    <tr>\n",
       "      <th>17</th>\n",
       "      <td>2018</td>\n",
       "      <td>17</td>\n",
       "      <td>5563.281690</td>\n",
       "    </tr>\n",
       "    <tr>\n",
       "      <th>18</th>\n",
       "      <td>2019</td>\n",
       "      <td>17</td>\n",
       "      <td>5754.056338</td>\n",
       "    </tr>\n",
       "  </tbody>\n",
       "</table>\n",
       "</div>"
      ],
      "text/plain": [
       "    year  fips  number_applied\n",
       "14  2015    17     4553.443038\n",
       "15  2016    17     4914.657895\n",
       "16  2017    17     4805.807692\n",
       "17  2018    17     5563.281690\n",
       "18  2019    17     5754.056338"
      ]
     },
     "execution_count": 10,
     "metadata": {},
     "output_type": "execute_result"
    }
   ],
   "source": [
    "df_ipeds_ex1.tail()"
   ]
  },
  {
   "cell_type": "code",
   "execution_count": 11,
   "id": "2622fbcf",
   "metadata": {},
   "outputs": [
    {
     "data": {
      "image/png": "[encoded data removed]",
      "text/plain": [
       "<Figure size 432x288 with 1 Axes>"
      ]
     },
     "metadata": {
      "needs_background": "light"
     },
     "output_type": "display_data"
    }
   ],
   "source": [
    "xaxis = df_ipeds_ex1['year'].unique().tolist()[::4]\n",
    "plot_title = \"Applications to IL Colleges\"\n",
    "df_ipeds_ex1.plot.line(x='year', y='number_applied', xticks=xaxis, title=plot_title);"
   ]
  }
 ],
 "metadata": {
  "kernelspec": {
   "display_name": "Python 3 (ipykernel)",
   "language": "python",
   "name": "python3"
  },
  "language_info": {
   "codemirror_mode": {
    "name": "ipython",
    "version": 3
   },
   "file_extension": ".py",
   "mimetype": "text/x-python",
   "name": "python",
   "nbconvert_exporter": "python",
   "pygments_lexer": "ipython3",
   "version": "3.9.7"
  }
 },
 "nbformat": 4,
 "nbformat_minor": 5
}
